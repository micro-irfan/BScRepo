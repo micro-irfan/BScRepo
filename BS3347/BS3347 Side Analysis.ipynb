{
 "cells": [
  {
   "cell_type": "code",
   "execution_count": 9,
   "metadata": {},
   "outputs": [],
   "source": [
    "import pandas as pd\n",
    "import seaborn as sns\n",
    "import matplotlib.pyplot as plt"
   ]
  },
  {
   "cell_type": "code",
   "execution_count": 4,
   "metadata": {},
   "outputs": [],
   "source": [
    "df = pd.read_csv('python2.csv', sep= ';')"
   ]
  },
  {
   "cell_type": "code",
   "execution_count": 6,
   "metadata": {},
   "outputs": [],
   "source": [
    "%matplotlib inline"
   ]
  },
  {
   "cell_type": "code",
   "execution_count": 16,
   "metadata": {},
   "outputs": [
    {
     "data": {
      "text/plain": [
       "<matplotlib.axes._subplots.AxesSubplot at 0x224367bceb8>"
      ]
     },
     "execution_count": 16,
     "metadata": {},
     "output_type": "execute_result"
    },
    {
     "data": {
      "image/png": "[encoded data removed]",
      "text/plain": [
       "<Figure size 1296x432 with 1 Axes>"
      ]
     },
     "metadata": {
      "needs_background": "light"
     },
     "output_type": "display_data"
    }
   ],
   "source": [
    "plt.figure(figsize=(18,6))\n",
    "sns.boxplot(data=df['PE 34:0'])"
   ]
  },
  {
   "cell_type": "code",
   "execution_count": 17,
   "metadata": {},
   "outputs": [],
   "source": [
    "import pandas as pd\n",
    "import seaborn as sns \n",
    "import matplotlib.pyplot as plt"
   ]
  },
  {
   "cell_type": "code",
   "execution_count": 41,
   "metadata": {},
   "outputs": [],
   "source": [
    "df = pd.read_csv('Phospholipid head for PCA.csv', sep=';')"
   ]
  },
  {
   "cell_type": "code",
   "execution_count": 44,
   "metadata": {},
   "outputs": [
    {
     "data": {
      "text/html": [
       "<div>\n",
       "<style scoped>\n",
       "    .dataframe tbody tr th:only-of-type {\n",
       "        vertical-align: middle;\n",
       "    }\n",
       "\n",
       "    .dataframe tbody tr th {\n",
       "        vertical-align: top;\n",
       "    }\n",
       "\n",
       "    .dataframe thead th {\n",
       "        text-align: right;\n",
       "    }\n",
       "</style>\n",
       "<table border=\"1\" class=\"dataframe\">\n",
       "  <thead>\n",
       "    <tr style=\"text-align: right;\">\n",
       "      <th></th>\n",
       "      <th>PA</th>\n",
       "      <th>PE</th>\n",
       "      <th>PG</th>\n",
       "      <th>PI</th>\n",
       "    </tr>\n",
       "    <tr>\n",
       "      <th>Group</th>\n",
       "      <th></th>\n",
       "      <th></th>\n",
       "      <th></th>\n",
       "      <th></th>\n",
       "    </tr>\n",
       "  </thead>\n",
       "  <tbody>\n",
       "    <tr>\n",
       "      <th>M. bovis BCG</th>\n",
       "      <td>0.038255</td>\n",
       "      <td>0.719070</td>\n",
       "      <td>0.053424</td>\n",
       "      <td>0.189252</td>\n",
       "    </tr>\n",
       "    <tr>\n",
       "      <th>M. bovis BCG</th>\n",
       "      <td>0.037541</td>\n",
       "      <td>0.795431</td>\n",
       "      <td>0.032866</td>\n",
       "      <td>0.134161</td>\n",
       "    </tr>\n",
       "    <tr>\n",
       "      <th>M. bovis BCG</th>\n",
       "      <td>0.049154</td>\n",
       "      <td>0.723840</td>\n",
       "      <td>0.029157</td>\n",
       "      <td>0.197850</td>\n",
       "    </tr>\n",
       "    <tr>\n",
       "      <th>M. ulcerans</th>\n",
       "      <td>0.017069</td>\n",
       "      <td>0.325060</td>\n",
       "      <td>0.005877</td>\n",
       "      <td>0.651994</td>\n",
       "    </tr>\n",
       "    <tr>\n",
       "      <th>M. ulcerans</th>\n",
       "      <td>0.012735</td>\n",
       "      <td>0.324999</td>\n",
       "      <td>0.005567</td>\n",
       "      <td>0.656699</td>\n",
       "    </tr>\n",
       "  </tbody>\n",
       "</table>\n",
       "</div>"
      ],
      "text/plain": [
       "                    PA        PE        PG        PI\n",
       "Group                                               \n",
       "M. bovis BCG  0.038255  0.719070  0.053424  0.189252\n",
       "M. bovis BCG  0.037541  0.795431  0.032866  0.134161\n",
       "M. bovis BCG  0.049154  0.723840  0.029157  0.197850\n",
       "M. ulcerans   0.017069  0.325060  0.005877  0.651994\n",
       "M. ulcerans   0.012735  0.324999  0.005567  0.656699"
      ]
     },
     "execution_count": 44,
     "metadata": {},
     "output_type": "execute_result"
    }
   ],
   "source": [
    "df.head()"
   ]
  },
  {
   "cell_type": "code",
   "execution_count": 42,
   "metadata": {},
   "outputs": [],
   "source": [
    "df = df.set_index(['Group'])"
   ]
  },
  {
   "cell_type": "code",
   "execution_count": 43,
   "metadata": {},
   "outputs": [],
   "source": [
    "df1 = df.transpose()"
   ]
  },
  {
   "cell_type": "code",
   "execution_count": 28,
   "metadata": {},
   "outputs": [
    {
     "data": {
      "text/html": [
       "<div>\n",
       "<style scoped>\n",
       "    .dataframe tbody tr th:only-of-type {\n",
       "        vertical-align: middle;\n",
       "    }\n",
       "\n",
       "    .dataframe tbody tr th {\n",
       "        vertical-align: top;\n",
       "    }\n",
       "\n",
       "    .dataframe thead th {\n",
       "        text-align: right;\n",
       "    }\n",
       "</style>\n",
       "<table border=\"1\" class=\"dataframe\">\n",
       "  <thead>\n",
       "    <tr style=\"text-align: right;\">\n",
       "      <th>Group</th>\n",
       "      <th>M. bovis BCG</th>\n",
       "      <th>M. bovis BCG</th>\n",
       "      <th>M. bovis BCG</th>\n",
       "      <th>M. ulcerans</th>\n",
       "      <th>M. ulcerans</th>\n",
       "      <th>M. ulcerans</th>\n",
       "      <th>M. ulcerans</th>\n",
       "      <th>M. ulcerans</th>\n",
       "      <th>M. ulcerans</th>\n",
       "      <th>A. baumanii</th>\n",
       "      <th>...</th>\n",
       "      <th>A. baumanii</th>\n",
       "      <th>A. baumanii</th>\n",
       "      <th>A. baumanii</th>\n",
       "      <th>A. baumanii</th>\n",
       "      <th>A. baumanii</th>\n",
       "      <th>A. baumanii</th>\n",
       "      <th>A. baumanii</th>\n",
       "      <th>A. baumanii</th>\n",
       "      <th>A. baumanii</th>\n",
       "      <th>A. baumanii</th>\n",
       "    </tr>\n",
       "  </thead>\n",
       "  <tbody>\n",
       "    <tr>\n",
       "      <th>PA</th>\n",
       "      <td>0.038255</td>\n",
       "      <td>0.037541</td>\n",
       "      <td>0.049154</td>\n",
       "      <td>0.017069</td>\n",
       "      <td>0.012735</td>\n",
       "      <td>0.012053</td>\n",
       "      <td>0.010170</td>\n",
       "      <td>0.010918</td>\n",
       "      <td>0.010544</td>\n",
       "      <td>0.003607</td>\n",
       "      <td>...</td>\n",
       "      <td>0.003150</td>\n",
       "      <td>0.006654</td>\n",
       "      <td>0.006564</td>\n",
       "      <td>0.006692</td>\n",
       "      <td>0.009105</td>\n",
       "      <td>0.007418</td>\n",
       "      <td>0.007833</td>\n",
       "      <td>0.006654</td>\n",
       "      <td>0.006564</td>\n",
       "      <td>0.006692</td>\n",
       "    </tr>\n",
       "    <tr>\n",
       "      <th>PE</th>\n",
       "      <td>0.719070</td>\n",
       "      <td>0.795431</td>\n",
       "      <td>0.723840</td>\n",
       "      <td>0.325060</td>\n",
       "      <td>0.324999</td>\n",
       "      <td>0.260898</td>\n",
       "      <td>0.350556</td>\n",
       "      <td>0.321533</td>\n",
       "      <td>0.336045</td>\n",
       "      <td>0.254708</td>\n",
       "      <td>...</td>\n",
       "      <td>0.263001</td>\n",
       "      <td>0.247817</td>\n",
       "      <td>0.238270</td>\n",
       "      <td>0.240439</td>\n",
       "      <td>0.229805</td>\n",
       "      <td>0.221475</td>\n",
       "      <td>0.218342</td>\n",
       "      <td>0.247817</td>\n",
       "      <td>0.238270</td>\n",
       "      <td>0.240439</td>\n",
       "    </tr>\n",
       "    <tr>\n",
       "      <th>PG</th>\n",
       "      <td>0.053424</td>\n",
       "      <td>0.032866</td>\n",
       "      <td>0.029157</td>\n",
       "      <td>0.005877</td>\n",
       "      <td>0.005567</td>\n",
       "      <td>0.006205</td>\n",
       "      <td>0.009672</td>\n",
       "      <td>0.009898</td>\n",
       "      <td>0.009785</td>\n",
       "      <td>0.741685</td>\n",
       "      <td>...</td>\n",
       "      <td>0.733850</td>\n",
       "      <td>0.745530</td>\n",
       "      <td>0.755166</td>\n",
       "      <td>0.752870</td>\n",
       "      <td>0.761091</td>\n",
       "      <td>0.771107</td>\n",
       "      <td>0.773825</td>\n",
       "      <td>0.745530</td>\n",
       "      <td>0.755166</td>\n",
       "      <td>0.752870</td>\n",
       "    </tr>\n",
       "    <tr>\n",
       "      <th>PI</th>\n",
       "      <td>0.189252</td>\n",
       "      <td>0.134161</td>\n",
       "      <td>0.197850</td>\n",
       "      <td>0.651994</td>\n",
       "      <td>0.656699</td>\n",
       "      <td>0.720844</td>\n",
       "      <td>0.629602</td>\n",
       "      <td>0.657651</td>\n",
       "      <td>0.643627</td>\n",
       "      <td>0.000000</td>\n",
       "      <td>...</td>\n",
       "      <td>0.000000</td>\n",
       "      <td>0.000000</td>\n",
       "      <td>0.000000</td>\n",
       "      <td>0.000000</td>\n",
       "      <td>0.000000</td>\n",
       "      <td>0.000000</td>\n",
       "      <td>0.000000</td>\n",
       "      <td>0.000000</td>\n",
       "      <td>0.000000</td>\n",
       "      <td>0.000000</td>\n",
       "    </tr>\n",
       "  </tbody>\n",
       "</table>\n",
       "<p>4 rows × 21 columns</p>\n",
       "</div>"
      ],
      "text/plain": [
       "Group  M. bovis BCG  M. bovis BCG  M. bovis BCG  M. ulcerans  M. ulcerans  \\\n",
       "PA         0.038255      0.037541      0.049154     0.017069     0.012735   \n",
       "PE         0.719070      0.795431      0.723840     0.325060     0.324999   \n",
       "PG         0.053424      0.032866      0.029157     0.005877     0.005567   \n",
       "PI         0.189252      0.134161      0.197850     0.651994     0.656699   \n",
       "\n",
       "Group  M. ulcerans  M. ulcerans  M. ulcerans  M. ulcerans  A. baumanii  \\\n",
       "PA        0.012053     0.010170     0.010918     0.010544     0.003607   \n",
       "PE        0.260898     0.350556     0.321533     0.336045     0.254708   \n",
       "PG        0.006205     0.009672     0.009898     0.009785     0.741685   \n",
       "PI        0.720844     0.629602     0.657651     0.643627     0.000000   \n",
       "\n",
       "Group     ...       A. baumanii  A. baumanii  A. baumanii  A. baumanii  \\\n",
       "PA        ...          0.003150     0.006654     0.006564     0.006692   \n",
       "PE        ...          0.263001     0.247817     0.238270     0.240439   \n",
       "PG        ...          0.733850     0.745530     0.755166     0.752870   \n",
       "PI        ...          0.000000     0.000000     0.000000     0.000000   \n",
       "\n",
       "Group  A. baumanii  A. baumanii  A. baumanii  A. baumanii  A. baumanii  \\\n",
       "PA        0.009105     0.007418     0.007833     0.006654     0.006564   \n",
       "PE        0.229805     0.221475     0.218342     0.247817     0.238270   \n",
       "PG        0.761091     0.771107     0.773825     0.745530     0.755166   \n",
       "PI        0.000000     0.000000     0.000000     0.000000     0.000000   \n",
       "\n",
       "Group  A. baumanii  \n",
       "PA        0.006692  \n",
       "PE        0.240439  \n",
       "PG        0.752870  \n",
       "PI        0.000000  \n",
       "\n",
       "[4 rows x 21 columns]"
      ]
     },
     "execution_count": 28,
     "metadata": {},
     "output_type": "execute_result"
    }
   ],
   "source": [
    "df1.head()"
   ]
  },
  {
   "cell_type": "code",
   "execution_count": 22,
   "metadata": {},
   "outputs": [],
   "source": [
    "from sklearn.preprocessing import StandardScaler"
   ]
  },
  {
   "cell_type": "code",
   "execution_count": 23,
   "metadata": {},
   "outputs": [],
   "source": [
    "scaler = StandardScaler()"
   ]
  },
  {
   "cell_type": "code",
   "execution_count": 25,
   "metadata": {},
   "outputs": [
    {
     "data": {
      "text/html": [
       "<div>\n",
       "<style scoped>\n",
       "    .dataframe tbody tr th:only-of-type {\n",
       "        vertical-align: middle;\n",
       "    }\n",
       "\n",
       "    .dataframe tbody tr th {\n",
       "        vertical-align: top;\n",
       "    }\n",
       "\n",
       "    .dataframe thead th {\n",
       "        text-align: right;\n",
       "    }\n",
       "</style>\n",
       "<table border=\"1\" class=\"dataframe\">\n",
       "  <thead>\n",
       "    <tr style=\"text-align: right;\">\n",
       "      <th></th>\n",
       "      <th>0</th>\n",
       "      <th>1</th>\n",
       "      <th>2</th>\n",
       "      <th>3</th>\n",
       "      <th>4</th>\n",
       "      <th>5</th>\n",
       "      <th>6</th>\n",
       "      <th>7</th>\n",
       "      <th>8</th>\n",
       "      <th>9</th>\n",
       "      <th>...</th>\n",
       "      <th>11</th>\n",
       "      <th>12</th>\n",
       "      <th>13</th>\n",
       "      <th>14</th>\n",
       "      <th>15</th>\n",
       "      <th>16</th>\n",
       "      <th>17</th>\n",
       "      <th>18</th>\n",
       "      <th>19</th>\n",
       "      <th>20</th>\n",
       "    </tr>\n",
       "  </thead>\n",
       "  <tbody>\n",
       "    <tr>\n",
       "      <th>Group</th>\n",
       "      <td>M. bovis BCG</td>\n",
       "      <td>M. bovis BCG</td>\n",
       "      <td>M. bovis BCG</td>\n",
       "      <td>M. ulcerans</td>\n",
       "      <td>M. ulcerans</td>\n",
       "      <td>M. ulcerans</td>\n",
       "      <td>M. ulcerans</td>\n",
       "      <td>M. ulcerans</td>\n",
       "      <td>M. ulcerans</td>\n",
       "      <td>A. baumanii</td>\n",
       "      <td>...</td>\n",
       "      <td>A. baumanii</td>\n",
       "      <td>A. baumanii</td>\n",
       "      <td>A. baumanii</td>\n",
       "      <td>A. baumanii</td>\n",
       "      <td>A. baumanii</td>\n",
       "      <td>A. baumanii</td>\n",
       "      <td>A. baumanii</td>\n",
       "      <td>A. baumanii</td>\n",
       "      <td>A. baumanii</td>\n",
       "      <td>A. baumanii</td>\n",
       "    </tr>\n",
       "    <tr>\n",
       "      <th>PA</th>\n",
       "      <td>0.0382545</td>\n",
       "      <td>0.0375413</td>\n",
       "      <td>0.0491539</td>\n",
       "      <td>0.0170685</td>\n",
       "      <td>0.0127354</td>\n",
       "      <td>0.0120531</td>\n",
       "      <td>0.0101695</td>\n",
       "      <td>0.010918</td>\n",
       "      <td>0.0105438</td>\n",
       "      <td>0.00360677</td>\n",
       "      <td>...</td>\n",
       "      <td>0.00314952</td>\n",
       "      <td>0.00665372</td>\n",
       "      <td>0.0065641</td>\n",
       "      <td>0.00669169</td>\n",
       "      <td>0.00910475</td>\n",
       "      <td>0.00741844</td>\n",
       "      <td>0.00783306</td>\n",
       "      <td>0.00665372</td>\n",
       "      <td>0.0065641</td>\n",
       "      <td>0.00669169</td>\n",
       "    </tr>\n",
       "    <tr>\n",
       "      <th>PE</th>\n",
       "      <td>0.71907</td>\n",
       "      <td>0.795431</td>\n",
       "      <td>0.72384</td>\n",
       "      <td>0.32506</td>\n",
       "      <td>0.324999</td>\n",
       "      <td>0.260898</td>\n",
       "      <td>0.350556</td>\n",
       "      <td>0.321533</td>\n",
       "      <td>0.336045</td>\n",
       "      <td>0.254708</td>\n",
       "      <td>...</td>\n",
       "      <td>0.263001</td>\n",
       "      <td>0.247817</td>\n",
       "      <td>0.23827</td>\n",
       "      <td>0.240439</td>\n",
       "      <td>0.229805</td>\n",
       "      <td>0.221475</td>\n",
       "      <td>0.218342</td>\n",
       "      <td>0.247817</td>\n",
       "      <td>0.23827</td>\n",
       "      <td>0.240439</td>\n",
       "    </tr>\n",
       "    <tr>\n",
       "      <th>PG</th>\n",
       "      <td>0.0534241</td>\n",
       "      <td>0.0328661</td>\n",
       "      <td>0.0291565</td>\n",
       "      <td>0.00587717</td>\n",
       "      <td>0.00556686</td>\n",
       "      <td>0.00620484</td>\n",
       "      <td>0.00967205</td>\n",
       "      <td>0.00989778</td>\n",
       "      <td>0.00978492</td>\n",
       "      <td>0.741685</td>\n",
       "      <td>...</td>\n",
       "      <td>0.73385</td>\n",
       "      <td>0.74553</td>\n",
       "      <td>0.755166</td>\n",
       "      <td>0.75287</td>\n",
       "      <td>0.761091</td>\n",
       "      <td>0.771107</td>\n",
       "      <td>0.773825</td>\n",
       "      <td>0.74553</td>\n",
       "      <td>0.755166</td>\n",
       "      <td>0.75287</td>\n",
       "    </tr>\n",
       "    <tr>\n",
       "      <th>PI</th>\n",
       "      <td>0.189252</td>\n",
       "      <td>0.134161</td>\n",
       "      <td>0.19785</td>\n",
       "      <td>0.651994</td>\n",
       "      <td>0.656699</td>\n",
       "      <td>0.720844</td>\n",
       "      <td>0.629602</td>\n",
       "      <td>0.657651</td>\n",
       "      <td>0.643627</td>\n",
       "      <td>0</td>\n",
       "      <td>...</td>\n",
       "      <td>0</td>\n",
       "      <td>0</td>\n",
       "      <td>0</td>\n",
       "      <td>0</td>\n",
       "      <td>0</td>\n",
       "      <td>0</td>\n",
       "      <td>0</td>\n",
       "      <td>0</td>\n",
       "      <td>0</td>\n",
       "      <td>0</td>\n",
       "    </tr>\n",
       "  </tbody>\n",
       "</table>\n",
       "<p>5 rows × 21 columns</p>\n",
       "</div>"
      ],
      "text/plain": [
       "                 0             1             2            3            4   \\\n",
       "Group  M. bovis BCG  M. bovis BCG  M. bovis BCG  M. ulcerans  M. ulcerans   \n",
       "PA        0.0382545     0.0375413     0.0491539    0.0170685    0.0127354   \n",
       "PE          0.71907      0.795431       0.72384      0.32506     0.324999   \n",
       "PG        0.0534241     0.0328661     0.0291565   0.00587717   0.00556686   \n",
       "PI         0.189252      0.134161       0.19785     0.651994     0.656699   \n",
       "\n",
       "                5            6            7            8            9   \\\n",
       "Group  M. ulcerans  M. ulcerans  M. ulcerans  M. ulcerans  A. baumanii   \n",
       "PA       0.0120531    0.0101695     0.010918    0.0105438   0.00360677   \n",
       "PE        0.260898     0.350556     0.321533     0.336045     0.254708   \n",
       "PG      0.00620484   0.00967205   0.00989778   0.00978492     0.741685   \n",
       "PI        0.720844     0.629602     0.657651     0.643627            0   \n",
       "\n",
       "          ...                11           12           13           14  \\\n",
       "Group     ...       A. baumanii  A. baumanii  A. baumanii  A. baumanii   \n",
       "PA        ...        0.00314952   0.00665372    0.0065641   0.00669169   \n",
       "PE        ...          0.263001     0.247817      0.23827     0.240439   \n",
       "PG        ...           0.73385      0.74553     0.755166      0.75287   \n",
       "PI        ...                 0            0            0            0   \n",
       "\n",
       "                15           16           17           18           19  \\\n",
       "Group  A. baumanii  A. baumanii  A. baumanii  A. baumanii  A. baumanii   \n",
       "PA      0.00910475   0.00741844   0.00783306   0.00665372    0.0065641   \n",
       "PE        0.229805     0.221475     0.218342     0.247817      0.23827   \n",
       "PG        0.761091     0.771107     0.773825      0.74553     0.755166   \n",
       "PI               0            0            0            0            0   \n",
       "\n",
       "                20  \n",
       "Group  A. baumanii  \n",
       "PA      0.00669169  \n",
       "PE        0.240439  \n",
       "PG         0.75287  \n",
       "PI               0  \n",
       "\n",
       "[5 rows x 21 columns]"
      ]
     },
     "execution_count": 25,
     "metadata": {},
     "output_type": "execute_result"
    }
   ],
   "source": [
    "df1.head()"
   ]
  },
  {
   "cell_type": "code",
   "execution_count": 45,
   "metadata": {},
   "outputs": [
    {
     "data": {
      "text/plain": [
       "StandardScaler(copy=True, with_mean=True, with_std=True)"
      ]
     },
     "execution_count": 45,
     "metadata": {},
     "output_type": "execute_result"
    }
   ],
   "source": [
    "scaler.fit(df)"
   ]
  },
  {
   "cell_type": "code",
   "execution_count": 46,
   "metadata": {},
   "outputs": [],
   "source": [
    "scaled_data = scaler.transform(df)"
   ]
  },
  {
   "cell_type": "code",
   "execution_count": 31,
   "metadata": {},
   "outputs": [],
   "source": [
    "from sklearn.decomposition import PCA"
   ]
  },
  {
   "cell_type": "code",
   "execution_count": 48,
   "metadata": {},
   "outputs": [],
   "source": [
    "pca = PCA(n_components=2)"
   ]
  },
  {
   "cell_type": "code",
   "execution_count": 49,
   "metadata": {},
   "outputs": [
    {
     "data": {
      "text/plain": [
       "PCA(copy=True, iterated_power='auto', n_components=2, random_state=None,\n",
       "  svd_solver='auto', tol=0.0, whiten=False)"
      ]
     },
     "execution_count": 49,
     "metadata": {},
     "output_type": "execute_result"
    }
   ],
   "source": [
    "pca.fit(scaled_data)"
   ]
  },
  {
   "cell_type": "code",
   "execution_count": 50,
   "metadata": {},
   "outputs": [
    {
     "data": {
      "text/plain": [
       "array([[ 0.52492785,  0.52012575, -0.56099522,  0.37310095],\n",
       "       [ 0.42653813,  0.44522136,  0.33946455, -0.71035694]])"
      ]
     },
     "execution_count": 50,
     "metadata": {},
     "output_type": "execute_result"
    }
   ],
   "source": [
    "pca.components_"
   ]
  },
  {
   "cell_type": "code",
   "execution_count": 51,
   "metadata": {},
   "outputs": [],
   "source": [
    "x_pca = pca.transform(scaled_data)"
   ]
  },
  {
   "cell_type": "code",
   "execution_count": 52,
   "metadata": {},
   "outputs": [
    {
     "data": {
      "text/plain": [
       "(21, 4)"
      ]
     },
     "execution_count": 52,
     "metadata": {},
     "output_type": "execute_result"
    }
   ],
   "source": [
    "scaled_data.shape"
   ]
  },
  {
   "cell_type": "code",
   "execution_count": 53,
   "metadata": {},
   "outputs": [
    {
     "data": {
      "text/plain": [
       "(21, 2)"
      ]
     },
     "execution_count": 53,
     "metadata": {},
     "output_type": "execute_result"
    }
   ],
   "source": [
    "x_pca.shape"
   ]
  },
  {
   "cell_type": "code",
   "execution_count": 54,
   "metadata": {},
   "outputs": [
    {
     "data": {
      "text/plain": [
       "Text(0, 0.5, 'Second Principle Component')"
      ]
     },
     "execution_count": 54,
     "metadata": {},
     "output_type": "execute_result"
    },
    {
     "data": {
      "image/png": "[encoded data removed]",
      "text/plain": [
       "<Figure size 576x432 with 1 Axes>"
      ]
     },
     "metadata": {
      "needs_background": "light"
     },
     "output_type": "display_data"
    }
   ],
   "source": [
    "plt.figure(figsize=(8,6))\n",
    "plt.scatter(x_pca[:,0],x_pca[:,1])\n",
    "plt.xlabel('First Principle Component')\n",
    "plt.ylabel('Second Principle Component')"
   ]
  },
  {
   "cell_type": "code",
   "execution_count": null,
   "metadata": {},
   "outputs": [],
   "source": []
  },
  {
   "cell_type": "code",
   "execution_count": 66,
   "metadata": {},
   "outputs": [],
   "source": [
    "heading1 = pd.read_csv('Heading1.csv', sep = ';')"
   ]
  },
  {
   "cell_type": "code",
   "execution_count": 70,
   "metadata": {},
   "outputs": [
    {
     "data": {
      "text/html": [
       "<div>\n",
       "<style scoped>\n",
       "    .dataframe tbody tr th:only-of-type {\n",
       "        vertical-align: middle;\n",
       "    }\n",
       "\n",
       "    .dataframe tbody tr th {\n",
       "        vertical-align: top;\n",
       "    }\n",
       "\n",
       "    .dataframe thead th {\n",
       "        text-align: right;\n",
       "    }\n",
       "</style>\n",
       "<table border=\"1\" class=\"dataframe\">\n",
       "  <thead>\n",
       "    <tr style=\"text-align: right;\">\n",
       "      <th></th>\n",
       "      <th>Heading</th>\n",
       "    </tr>\n",
       "  </thead>\n",
       "  <tbody>\n",
       "    <tr>\n",
       "      <th>0</th>\n",
       "      <td>PA</td>\n",
       "    </tr>\n",
       "    <tr>\n",
       "      <th>1</th>\n",
       "      <td>PE</td>\n",
       "    </tr>\n",
       "    <tr>\n",
       "      <th>2</th>\n",
       "      <td>PG</td>\n",
       "    </tr>\n",
       "    <tr>\n",
       "      <th>3</th>\n",
       "      <td>PI</td>\n",
       "    </tr>\n",
       "  </tbody>\n",
       "</table>\n",
       "</div>"
      ],
      "text/plain": [
       "  Heading \n",
       "0       PA\n",
       "1       PE\n",
       "2       PG\n",
       "3       PI"
      ]
     },
     "execution_count": 70,
     "metadata": {},
     "output_type": "execute_result"
    }
   ],
   "source": [
    "heading1.head()"
   ]
  },
  {
   "cell_type": "code",
   "execution_count": 57,
   "metadata": {},
   "outputs": [
    {
     "data": {
      "text/html": [
       "<div>\n",
       "<style scoped>\n",
       "    .dataframe tbody tr th:only-of-type {\n",
       "        vertical-align: middle;\n",
       "    }\n",
       "\n",
       "    .dataframe tbody tr th {\n",
       "        vertical-align: top;\n",
       "    }\n",
       "\n",
       "    .dataframe thead th {\n",
       "        text-align: right;\n",
       "    }\n",
       "</style>\n",
       "<table border=\"1\" class=\"dataframe\">\n",
       "  <thead>\n",
       "    <tr style=\"text-align: right;\">\n",
       "      <th></th>\n",
       "      <th>PA</th>\n",
       "      <th>PE</th>\n",
       "      <th>PG</th>\n",
       "      <th>PI</th>\n",
       "    </tr>\n",
       "    <tr>\n",
       "      <th>Group</th>\n",
       "      <th></th>\n",
       "      <th></th>\n",
       "      <th></th>\n",
       "      <th></th>\n",
       "    </tr>\n",
       "  </thead>\n",
       "  <tbody>\n",
       "    <tr>\n",
       "      <th>M. bovis BCG</th>\n",
       "      <td>0.038255</td>\n",
       "      <td>0.719070</td>\n",
       "      <td>0.053424</td>\n",
       "      <td>0.189252</td>\n",
       "    </tr>\n",
       "    <tr>\n",
       "      <th>M. bovis BCG</th>\n",
       "      <td>0.037541</td>\n",
       "      <td>0.795431</td>\n",
       "      <td>0.032866</td>\n",
       "      <td>0.134161</td>\n",
       "    </tr>\n",
       "    <tr>\n",
       "      <th>M. bovis BCG</th>\n",
       "      <td>0.049154</td>\n",
       "      <td>0.723840</td>\n",
       "      <td>0.029157</td>\n",
       "      <td>0.197850</td>\n",
       "    </tr>\n",
       "    <tr>\n",
       "      <th>M. ulcerans</th>\n",
       "      <td>0.017069</td>\n",
       "      <td>0.325060</td>\n",
       "      <td>0.005877</td>\n",
       "      <td>0.651994</td>\n",
       "    </tr>\n",
       "    <tr>\n",
       "      <th>M. ulcerans</th>\n",
       "      <td>0.012735</td>\n",
       "      <td>0.324999</td>\n",
       "      <td>0.005567</td>\n",
       "      <td>0.656699</td>\n",
       "    </tr>\n",
       "  </tbody>\n",
       "</table>\n",
       "</div>"
      ],
      "text/plain": [
       "                    PA        PE        PG        PI\n",
       "Group                                               \n",
       "M. bovis BCG  0.038255  0.719070  0.053424  0.189252\n",
       "M. bovis BCG  0.037541  0.795431  0.032866  0.134161\n",
       "M. bovis BCG  0.049154  0.723840  0.029157  0.197850\n",
       "M. ulcerans   0.017069  0.325060  0.005877  0.651994\n",
       "M. ulcerans   0.012735  0.324999  0.005567  0.656699"
      ]
     },
     "execution_count": 57,
     "metadata": {},
     "output_type": "execute_result"
    }
   ],
   "source": [
    "df.head()"
   ]
  },
  {
   "cell_type": "code",
   "execution_count": 71,
   "metadata": {},
   "outputs": [
    {
     "data": {
      "text/plain": [
       "<matplotlib.axes._subplots.AxesSubplot at 0x224399610f0>"
      ]
     },
     "execution_count": 71,
     "metadata": {},
     "output_type": "execute_result"
    },
    {
     "data": {
      "image/png": "[encoded data removed]",
      "text/plain": [
       "<Figure size 1296x432 with 2 Axes>"
      ]
     },
     "metadata": {
      "needs_background": "light"
     },
     "output_type": "display_data"
    }
   ],
   "source": [
    "plt.figure(figsize=(18,6))\n",
    "sns.heatmap(df_comp,cmap='plasma')\n"
   ]
  }
 ],
 "metadata": {
  "kernelspec": {
   "display_name": "Python 3",
   "language": "python",
   "name": "python3"
  },
  "language_info": {
   "codemirror_mode": {
    "name": "ipython",
    "version": 3
   },
   "file_extension": ".py",
   "mimetype": "text/x-python",
   "name": "python",
   "nbconvert_exporter": "python",
   "pygments_lexer": "ipython3",
   "version": "3.7.0"
  }
 },
 "nbformat": 4,
 "nbformat_minor": 2
}
